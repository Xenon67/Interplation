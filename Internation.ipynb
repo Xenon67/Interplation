{
  "nbformat": 4,
  "nbformat_minor": 0,
  "metadata": {
    "colab": {
      "name": "Internation.ipynb",
      "private_outputs": true,
      "provenance": [],
      "collapsed_sections": [],
      "include_colab_link": true
    },
    "kernelspec": {
      "name": "python3",
      "display_name": "Python 3"
    },
    "accelerator": "GPU"
  },
  "cells": [
    {
      "cell_type": "markdown",
      "metadata": {
        "id": "view-in-github",
        "colab_type": "text"
      },
      "source": [
        "<a href=\"https://colab.research.google.com/github/Xenon67/Interplation/blob/main/Internation.ipynb\" target=\"_parent\"><img src=\"https://colab.research.google.com/assets/colab-badge.svg\" alt=\"Open In Colab\"/></a>"
      ]
    },
    {
      "cell_type": "markdown",
      "metadata": {
        "id": "1pIo4r_Y8cMo"
      },
      "source": [
        "# Asena PLUG - Video İnerpolation."
      ]
    },
    {
      "cell_type": "code",
      "metadata": {
        "id": "N9cGwalNeyk9"
      },
      "source": [
        "# Google Drive Bağla\n",
        "from google.colab import drive\n",
        "drive.mount('/content/gdrive')\n",
        "print('Google Drive connected.')"
      ],
      "execution_count": null,
      "outputs": []
    },
    {
      "cell_type": "code",
      "metadata": {
        "id": "enKoi0TR2fOD",
        "cellView": "form"
      },
      "source": [
        "################# Gerekli Yapılandırma ############################\n",
        " \n",
        "#@markdown #Gerekli Yapılandırma\n",
        "#@markdown Drive üzerinde \"videos\" klasöru açın. Yüklemek istediğiniz videoyu oraya yükleyin.\n",
        "#@markdown ## Video İsmi\n",
        "#@markdown Lütfen sadece `\"kaplum\"` kısmını silin ardından videonun ismini girin. Sadece `480p` ve `720p` videolar desteklenmektir.\n",
        "INPUT_FILEPATH = \"videos/kaplum.mp4\" #@param{type:\"string\"}\n",
        " \n",
        "#@markdown ## Sonuç Dosya İsmi\n",
        "#@markdown Sadece `.mp4` ve `.gif` uzantıları geçerlidir. Lütfen sadece `\"kaplum240fps\"` kısmını değiştirin.\n",
        "OUTPUT_FILE_PATH = \"DAIN/kaplum240fps.mp4\" #@param{type:\"string\"}\n",
        " \n",
        " \n",
        " \n",
        " \n",
        "#@markdown ## Hedef FPS\n",
        "#@markdown Videoyu ayarlamak istediğiniz FPS değerini girin. FPS değeri ne kadar yüksek olursa işlem o kadar uzun sürede tamamlanır.\n",
        "TARGET_FPS =  240#@param{type:\"number\"}\n",
        " \n",
        "#@markdown ###`↓BİLGİNİZ YOKSA DOKUNMAYIN↓`\n",
        " \n",
        " \n",
        "#@markdown ## Frame input directory\n",
        "#@markdown A path, relative to your GDrive root, where you already have the list of frames in the format 00001.png, 00002.png, etc.\n",
        "FRAME_INPUT_DIR = '/content/DAIN/input_frames' #@param{type:\"string\"}\n",
        " \n",
        "#@markdown ## Frame output directory\n",
        "#@markdown A path, relative to your GDrive root, where you want the generated frame.\n",
        "FRAME_OUTPUT_DIR = '/content/DAIN/output_frames' #@param{type:\"string\"}\n",
        " \n",
        "#@markdown ## Seamless playback\n",
        "#@markdown Creates a seamless loop by using the first frame as last one as well. Set this to True this if loop is intended.\n",
        "SEAMLESS = True #@param{type:\"boolean\"}\n",
        " \n",
        "#@markdown ## Resize hotfix\n",
        "#@markdown DAIN frames are a bit \"shifted / smaller\" compared to original input frames. This can partly be mitigated with resizing DAIN frames to the resolution +2px and cropping the result to the original resoultion with the starting point (1,1). Without this fix, DAIN tends to make \"vibrating\" output and it is pretty noticible with static elements like text.\n",
        "#@markdown\n",
        "#@markdown This hotfix tries to make such effects less visible for a smoother video playback. I do not know what DAINAPP uses as a fix for this problem, but the original does show such behaviour with the default test images. More advanced users can change the interpolation method. The methods cv2.INTER_CUBIC and cv2.INTER_LANCZOS4 are recommended. The current default value is cv2.INTER_LANCZOS4.\n",
        "RESIZE_HOTFIX = True #@param{type:\"boolean\"}\n",
        " \n",
        "#@markdown ## Auto-remove PNG directory\n",
        "#@markdown Auto-delete output PNG dir after ffmpeg video creation. Set this to `False` if you want to keep the PNG files.\n",
        "AUTO_REMOVE = False #@param{type:\"boolean\"}"
      ],
      "execution_count": null,
      "outputs": []
    },
    {
      "cell_type": "markdown",
      "metadata": {
        "id": "UYHTTP91oMvh"
      },
      "source": [
        "# Modüller Yükleniyor. \n",
        "Bu işlem 10-15 dakika arası sürecektir.\n",
        "Yükleme esnasında hiçbir paket bağlı olduğunu ağ üzerinden indirilmez."
      ]
    },
    {
      "cell_type": "code",
      "metadata": {
        "id": "XunYRBtyPZf_"
      },
      "source": [
        "# PyTorch ve SciPy Modülleri Yükleniyor.\n",
        "!pip install torch==1.4.0+cu100 torchvision==0.5.0+cu100 -f https://download.pytorch.org/whl/torch_stable.html\n",
        "!pip install scipy==1.1.0\n",
        "print(\"Tamamlandı\")"
      ],
      "execution_count": null,
      "outputs": []
    },
    {
      "cell_type": "code",
      "metadata": {
        "id": "-mRVRXIGPk9I"
      },
      "source": [
        "# Repo Yükleniyor.\n",
        "%cd /content\n",
        "!rm -rf DAIN\n",
        "!git clone -b colab-compatibility --depth 1 https://github.com/AlphaGit/DAIN /content/DAIN\n",
        "%cd /content/DAIN\n",
        "!git log -1\n",
        "print(\"Tamamlandı\")"
      ],
      "execution_count": null,
      "outputs": []
    },
    {
      "cell_type": "code",
      "metadata": {
        "id": "e5AHGetTRacZ"
      },
      "source": [
        "# Bu işlem 10 Dakika kadar sürecektir.\n",
        "%cd /content/DAIN/my_package/\n",
        "!./build.sh\n",
        "print(\"Tamamlandı\")"
      ],
      "execution_count": null,
      "outputs": []
    },
    {
      "cell_type": "code",
      "metadata": {
        "id": "UeaU8um5-2NS"
      },
      "source": [
        "# PyTorch Modülleri Yükleniyor.\n",
        "# Bu işlem 5 dakika sürecektir.\n",
        "%cd /content/DAIN/PWCNet/correlation_package_pytorch1_0\n",
        "!./build.sh\n",
        "print(\"Tamamlandı\")"
      ],
      "execution_count": null,
      "outputs": []
    },
    {
      "cell_type": "code",
      "metadata": {
        "id": "InjqMYIyXCZs"
      },
      "source": [
        "# Pre-trained modeller indiriliyor.\n",
        "%cd /content/DAIN\n",
        "!mkdir model_weights\n",
        "!wget -O model_weights/best.pth http://vllab1.ucmerced.edu/~wenbobao/DAIN/best.pth\n",
        "print(\"Tamamlandı\")"
      ],
      "execution_count": null,
      "outputs": []
    },
    {
      "cell_type": "code",
      "metadata": {
        "id": "FrdWsqbvXEid"
      },
      "source": [
        "\n",
        "# CUDA Modülleri Yükleniyor.\n",
        "!CUDA_VISIBLE_DEVICES=0\n",
        "!sudo apt-get install imagemagick imagemagick-doc\n",
        "print(\"Tamamlandı\")"
      ],
      "execution_count": null,
      "outputs": []
    },
    {
      "cell_type": "code",
      "metadata": {
        "id": "zm5kn6vTncL4"
      },
      "source": [
        "# Videodaki FPS değeri ölçülüyor.\n",
        "%shell yes | cp -f /content/gdrive/My\\ Drive/{INPUT_FILEPATH} /content/DAIN/\n",
        " \n",
        "import os\n",
        "filename = os.path.basename(INPUT_FILEPATH)\n",
        " \n",
        "import cv2\n",
        "cap = cv2.VideoCapture(f'/content/DAIN/{filename}')\n",
        " \n",
        "fps = cap.get(cv2.CAP_PROP_FPS)\n",
        " \n",
        "if(fps/TARGET_FPS>0.5):\n",
        "  print(\"LÜTFEN FPS DEĞERİNİ YÜKSELTİN. GİRİLEN FPS DEĞERİ YENİ KARELER YARATMAK İÇİN ÇOK DÜŞÜK.\")\")"
      ],
      "execution_count": null,
      "outputs": []
    },
    {
      "cell_type": "code",
      "metadata": {
        "id": "9YNva-GuKq4Y"
      },
      "source": [
        "# FFMPEG İLE YENİ KARELER ÜRETİLİYOR.\n",
        "%shell rm -rf '{FRAME_INPUT_DIR}'\n",
        "%shell mkdir -p '{FRAME_INPUT_DIR}'\n",
        " \n",
        "%shell ffmpeg -i '/content/DAIN/{filename}' '{FRAME_INPUT_DIR}/%05d.png'\n",
        " \n",
        "png_generated_count_command_result = %shell ls '{FRAME_INPUT_DIR}' | wc -l\n",
        "from IPython.display import clear_output\n",
        "clear_output()\n",
        " \n",
        "pngs_generated_count = int(png_generated_count_command_result.output.strip())\n",
        " \n",
        "import shutil\n",
        "if SEAMLESS==True:\n",
        "  pngs_generated_count += 1\n",
        "  original = str(FRAME_INPUT_DIR)+\"/00001.png\"\n",
        "  target = str(FRAME_INPUT_DIR)+\"/\"+str(pngs_generated_count).zfill(5)+\".png\"\n",
        "  shutil.copyfile(original, target)\n",
        " \n",
        "print(f\"Input FPS: {fps}\")\n",
        "print(f\"{pngs_generated_count} frame PNGs generated.\")\n",
        " \n",
        "# Resimlerdeki Alpha oranına bakılıyor.\n",
        "import subprocess as sp\n",
        "%cd {FRAME_INPUT_DIR}\n",
        "channels = sp.getoutput('identify -format %[channels] 00001.png')\n",
        "print (f\"{channels} detected\")\n",
        " \n",
        "# Alpha bölgeler siliniyor.\n",
        "if \"a\" in channels:\n",
        "  print(\"Alpha tespit edildi ve silindi.\")\n",
        "  print(sp.getoutput('find . -name \"*.png\" -exec convert \"{}\" -alpha off PNG24:\"{}\" \\;'))"
      ],
      "execution_count": null,
      "outputs": []
    },
    {
      "cell_type": "code",
      "metadata": {
        "id": "W3rrE7L824gL"
      },
      "source": [
        "# İnterpolate Ediliyor.\n",
        "%shell mkdir -p '{FRAME_OUTPUT_DIR}'\n",
        "%cd /content/DAIN\n",
        " \n",
        "!python -W ignore colab_interpolate.py --netName DAIN_slowmotion --time_step {fps/TARGET_FPS} --start_frame 1 --end_frame {pngs_generated_count} --frame_input_dir '{FRAME_INPUT_DIR}' --frame_output_dir '{FRAME_OUTPUT_DIR}'\n",
        "print(\"Tamamlandı\")"
      ],
      "execution_count": null,
      "outputs": []
    },
    {
      "cell_type": "code",
      "metadata": {
        "id": "xPYewi8jsq_B"
      },
      "source": [
        "# Video Oluşturuluyor.\n",
        "import numpy as np\n",
        "%cd {FRAME_OUTPUT_DIR}\n",
        "if(RESIZE_HOTFIX==True):\n",
        "  images = []\n",
        "  for filename in os.listdir(f'{FRAME_OUTPUT_DIR}'):\n",
        "    img = cv2.imread(os.path.join(f'{FRAME_OUTPUT_DIR}',filename))\n",
        "    part_filename = os.path.splitext(filename)\n",
        "    if(part_filename[0].endswith('0')==False#\n",
        "      resized = cv2.resize(img, dimension, interpolation=cv2.INTER_LANCZOS4)\n",
        "      crop = resized[1:(dimension[1]-1), 1:(dimension[0]-1)]\n",
        "      cv2.imwrite(part_filename[0]+\".png\", crop)\n",
        " \n",
        "%cd /content/DAIN\n",
        "print(\"Tamamlandı\")"
      ],
      "execution_count": null,
      "outputs": []
    },
    {
      "cell_type": "code",
      "metadata": {
        "id": "TKREDli2IDMV"
      },
      "source": [
        "# Video Kodlanıyor.\n",
        "%cd {FRAME_OUTPUT_DIR}\n",
        "%shell ffmpeg -y -r {TARGET_FPS} -f image2 -pattern_type glob -i '*.png' '/content/gdrive/My Drive/{OUTPUT_FILE_PATH}'\n",
        "print(\"Tamamlandı\")"
      ],
      "execution_count": null,
      "outputs": []
    },
    {
      "cell_type": "markdown",
      "metadata": {
        "id": "vaipIQ6q5rw6"
      },
      "source": [
        "# `ÖNEMLİ BİLGİ` \n",
        "### Sayfa yenilenirse yada bağlantı disconnect olursa işlemlere en baştan başlamanız gerekmektedir."
      ]
    },
    {
      "cell_type": "markdown",
      "metadata": {
        "id": "8ASsISTg5K2y"
      },
      "source": [
        " ### Aşağıdaki seçenekler geliştiricileri içindir. İki seçenek de `çalışmamaktadır.` \n",
        "Geliştiriciler istediği gibi düzenleyebilir."
      ]
    },
    {
      "cell_type": "code",
      "metadata": {
        "id": "UF5TEo5N374o"
      },
      "source": [
        "if(AUTO_REMOVE):\n",
        "  !rm -rf {FRAME_OUTPUT_DIR}/*"
      ],
      "execution_count": null,
      "outputs": []
    },
    {
      "cell_type": "code",
      "metadata": {
        "id": "uCBHIXNN-JYu"
      },
      "source": [
        "# [Experimental] Create video with sound\n",
        "# Only run this, if the original had sound.\n",
        "%cd {FRAME_OUTPUT_DIR}\n",
        "%shell ffmpeg -i '/content/DAIN/{filename}' -acodec copy output-audio.aac\n",
        "%shell ffmpeg -y -r {TARGET_FPS} -f image2 -pattern_type glob -i '*.png' -i output-audio.aac -shortest '/content/gdrive/My Drive/{OUTPUT_FILE_PATH}'\n",
        " \n",
        "if (AUTO_REMOVE):\n",
        "  !rm -rf {FRAME_OUTPUT_DIR}/*\n",
        "  !rm -rf output-audio.aac"
      ],
      "execution_count": null,
      "outputs": []
    }
  ]
}